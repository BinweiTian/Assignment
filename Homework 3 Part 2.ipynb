{
 "cells": [
  {
   "cell_type": "markdown",
   "metadata": {},
   "source": [
    "# Homework 3 Part 2\n",
    "\n",
    "**Due: Wednesday, March 16, 11:59 PM**\n",
    "\n",
    "* This is an individual assignment."
   ]
  },
  {
   "cell_type": "markdown",
   "metadata": {},
   "source": [
    "# Problem 1\n",
    "\n",
    "In this data you will working with the [Wine Dataset](https://archive.ics.uci.edu/ml/datasets/wine):"
   ]
  },
  {
   "cell_type": "code",
   "execution_count": 2,
   "metadata": {
    "scrolled": true
   },
   "outputs": [
    {
     "name": "stdout",
     "output_type": "stream",
     "text": [
      ".. _wine_dataset:\n",
      "\n",
      "Wine recognition dataset\n",
      "------------------------\n",
      "\n",
      "**Data Set Characteristics:**\n",
      "\n",
      "    :Number of Instances: 178 (50 in each of three classes)\n",
      "    :Number of Attributes: 13 numeric, predictive attributes and the class\n",
      "    :Attribute Information:\n",
      " \t\t- Alcohol\n",
      " \t\t- Malic acid\n",
      " \t\t- Ash\n",
      "\t\t- Alcalinity of ash  \n",
      " \t\t- Magnesium\n",
      "\t\t- Total phenols\n",
      " \t\t- Flavanoids\n",
      " \t\t- Nonflavanoid phenols\n",
      " \t\t- Proanthocyanins\n",
      "\t\t- Color intensity\n",
      " \t\t- Hue\n",
      " \t\t- OD280/OD315 of diluted wines\n",
      " \t\t- Proline\n",
      "\n",
      "    - class:\n",
      "            - class_0\n",
      "            - class_1\n",
      "            - class_2\n",
      "\t\t\n",
      "    :Summary Statistics:\n",
      "    \n",
      "    ============================= ==== ===== ======= =====\n",
      "                                   Min   Max   Mean     SD\n",
      "    ============================= ==== ===== ======= =====\n",
      "    Alcohol:                      11.0  14.8    13.0   0.8\n",
      "    Malic Acid:                   0.74  5.80    2.34  1.12\n",
      "    Ash:                          1.36  3.23    2.36  0.27\n",
      "    Alcalinity of Ash:            10.6  30.0    19.5   3.3\n",
      "    Magnesium:                    70.0 162.0    99.7  14.3\n",
      "    Total Phenols:                0.98  3.88    2.29  0.63\n",
      "    Flavanoids:                   0.34  5.08    2.03  1.00\n",
      "    Nonflavanoid Phenols:         0.13  0.66    0.36  0.12\n",
      "    Proanthocyanins:              0.41  3.58    1.59  0.57\n",
      "    Colour Intensity:              1.3  13.0     5.1   2.3\n",
      "    Hue:                          0.48  1.71    0.96  0.23\n",
      "    OD280/OD315 of diluted wines: 1.27  4.00    2.61  0.71\n",
      "    Proline:                       278  1680     746   315\n",
      "    ============================= ==== ===== ======= =====\n",
      "\n",
      "    :Missing Attribute Values: None\n",
      "    :Class Distribution: class_0 (59), class_1 (71), class_2 (48)\n",
      "    :Creator: R.A. Fisher\n",
      "    :Donor: Michael Marshall (MARSHALL%PLU@io.arc.nasa.gov)\n",
      "    :Date: July, 1988\n",
      "\n",
      "This is a copy of UCI ML Wine recognition datasets.\n",
      "https://archive.ics.uci.edu/ml/machine-learning-databases/wine/wine.data\n",
      "\n",
      "The data is the results of a chemical analysis of wines grown in the same\n",
      "region in Italy by three different cultivators. There are thirteen different\n",
      "measurements taken for different constituents found in the three types of\n",
      "wine.\n",
      "\n",
      "Original Owners: \n",
      "\n",
      "Forina, M. et al, PARVUS - \n",
      "An Extendible Package for Data Exploration, Classification and Correlation. \n",
      "Institute of Pharmaceutical and Food Analysis and Technologies,\n",
      "Via Brigata Salerno, 16147 Genoa, Italy.\n",
      "\n",
      "Citation:\n",
      "\n",
      "Lichman, M. (2013). UCI Machine Learning Repository\n",
      "[https://archive.ics.uci.edu/ml]. Irvine, CA: University of California,\n",
      "School of Information and Computer Science. \n",
      "\n",
      ".. topic:: References\n",
      "\n",
      "  (1) S. Aeberhard, D. Coomans and O. de Vel, \n",
      "  Comparison of Classifiers in High Dimensional Settings, \n",
      "  Tech. Rep. no. 92-02, (1992), Dept. of Computer Science and Dept. of  \n",
      "  Mathematics and Statistics, James Cook University of North Queensland. \n",
      "  (Also submitted to Technometrics). \n",
      "\n",
      "  The data was used with many others for comparing various \n",
      "  classifiers. The classes are separable, though only RDA \n",
      "  has achieved 100% correct classification. \n",
      "  (RDA : 100%, QDA 99.4%, LDA 98.9%, 1NN 96.1% (z-transformed data)) \n",
      "  (All results using the leave-one-out technique) \n",
      "\n",
      "  (2) S. Aeberhard, D. Coomans and O. de Vel, \n",
      "  \"THE CLASSIFICATION PERFORMANCE OF RDA\" \n",
      "  Tech. Rep. no. 92-01, (1992), Dept. of Computer Science and Dept. of \n",
      "  Mathematics and Statistics, James Cook University of North Queensland. \n",
      "  (Also submitted to Journal of Chemometrics).\n",
      "\n"
     ]
    }
   ],
   "source": [
    "from sklearn.datasets import load_wine\n",
    "wine = load_wine(return_X_y=False)\n",
    "print(wine.DESCR)"
   ]
  },
  {
   "cell_type": "code",
   "execution_count": 3,
   "metadata": {},
   "outputs": [],
   "source": [
    "import numpy as np\n",
    "from scipy import spatial\n",
    "from scipy.spatial.distance import cdist\n",
    "from numpy.random import permutation\n",
    "import numpy as np\n",
    "import matplotlib.pyplot as plt\n",
    "%matplotlib inline\n"
   ]
  },
  {
   "cell_type": "markdown",
   "metadata": {},
   "source": [
    "Let's load this data into a ```pandas``` dataframe:"
   ]
  },
  {
   "cell_type": "code",
   "execution_count": 9,
   "metadata": {},
   "outputs": [
    {
     "data": {
      "text/html": [
       "<div>\n",
       "<style scoped>\n",
       "    .dataframe tbody tr th:only-of-type {\n",
       "        vertical-align: middle;\n",
       "    }\n",
       "\n",
       "    .dataframe tbody tr th {\n",
       "        vertical-align: top;\n",
       "    }\n",
       "\n",
       "    .dataframe thead th {\n",
       "        text-align: right;\n",
       "    }\n",
       "</style>\n",
       "<table border=\"1\" class=\"dataframe\">\n",
       "  <thead>\n",
       "    <tr style=\"text-align: right;\">\n",
       "      <th></th>\n",
       "      <th>Class</th>\n",
       "      <th>alcohol</th>\n",
       "      <th>malic_acid</th>\n",
       "      <th>ash</th>\n",
       "      <th>alcalinity_of_ash</th>\n",
       "      <th>magnesium</th>\n",
       "      <th>total_phenols</th>\n",
       "      <th>flavanoids</th>\n",
       "      <th>nonflavanoid_phenols</th>\n",
       "      <th>proanthocyanins</th>\n",
       "      <th>color_intensity</th>\n",
       "      <th>hue</th>\n",
       "      <th>od280/od315_of_diluted_wines</th>\n",
       "      <th>proline</th>\n",
       "    </tr>\n",
       "  </thead>\n",
       "  <tbody>\n",
       "    <tr>\n",
       "      <th>0</th>\n",
       "      <td>0.0</td>\n",
       "      <td>14.23</td>\n",
       "      <td>1.71</td>\n",
       "      <td>2.43</td>\n",
       "      <td>15.6</td>\n",
       "      <td>127.0</td>\n",
       "      <td>2.80</td>\n",
       "      <td>3.06</td>\n",
       "      <td>0.28</td>\n",
       "      <td>2.29</td>\n",
       "      <td>5.64</td>\n",
       "      <td>1.04</td>\n",
       "      <td>3.92</td>\n",
       "      <td>1065.0</td>\n",
       "    </tr>\n",
       "    <tr>\n",
       "      <th>1</th>\n",
       "      <td>0.0</td>\n",
       "      <td>13.20</td>\n",
       "      <td>1.78</td>\n",
       "      <td>2.14</td>\n",
       "      <td>11.2</td>\n",
       "      <td>100.0</td>\n",
       "      <td>2.65</td>\n",
       "      <td>2.76</td>\n",
       "      <td>0.26</td>\n",
       "      <td>1.28</td>\n",
       "      <td>4.38</td>\n",
       "      <td>1.05</td>\n",
       "      <td>3.40</td>\n",
       "      <td>1050.0</td>\n",
       "    </tr>\n",
       "    <tr>\n",
       "      <th>2</th>\n",
       "      <td>0.0</td>\n",
       "      <td>13.16</td>\n",
       "      <td>2.36</td>\n",
       "      <td>2.67</td>\n",
       "      <td>18.6</td>\n",
       "      <td>101.0</td>\n",
       "      <td>2.80</td>\n",
       "      <td>3.24</td>\n",
       "      <td>0.30</td>\n",
       "      <td>2.81</td>\n",
       "      <td>5.68</td>\n",
       "      <td>1.03</td>\n",
       "      <td>3.17</td>\n",
       "      <td>1185.0</td>\n",
       "    </tr>\n",
       "    <tr>\n",
       "      <th>3</th>\n",
       "      <td>0.0</td>\n",
       "      <td>14.37</td>\n",
       "      <td>1.95</td>\n",
       "      <td>2.50</td>\n",
       "      <td>16.8</td>\n",
       "      <td>113.0</td>\n",
       "      <td>3.85</td>\n",
       "      <td>3.49</td>\n",
       "      <td>0.24</td>\n",
       "      <td>2.18</td>\n",
       "      <td>7.80</td>\n",
       "      <td>0.86</td>\n",
       "      <td>3.45</td>\n",
       "      <td>1480.0</td>\n",
       "    </tr>\n",
       "    <tr>\n",
       "      <th>4</th>\n",
       "      <td>0.0</td>\n",
       "      <td>13.24</td>\n",
       "      <td>2.59</td>\n",
       "      <td>2.87</td>\n",
       "      <td>21.0</td>\n",
       "      <td>118.0</td>\n",
       "      <td>2.80</td>\n",
       "      <td>2.69</td>\n",
       "      <td>0.39</td>\n",
       "      <td>1.82</td>\n",
       "      <td>4.32</td>\n",
       "      <td>1.04</td>\n",
       "      <td>2.93</td>\n",
       "      <td>735.0</td>\n",
       "    </tr>\n",
       "    <tr>\n",
       "      <th>...</th>\n",
       "      <td>...</td>\n",
       "      <td>...</td>\n",
       "      <td>...</td>\n",
       "      <td>...</td>\n",
       "      <td>...</td>\n",
       "      <td>...</td>\n",
       "      <td>...</td>\n",
       "      <td>...</td>\n",
       "      <td>...</td>\n",
       "      <td>...</td>\n",
       "      <td>...</td>\n",
       "      <td>...</td>\n",
       "      <td>...</td>\n",
       "      <td>...</td>\n",
       "    </tr>\n",
       "    <tr>\n",
       "      <th>173</th>\n",
       "      <td>2.0</td>\n",
       "      <td>13.71</td>\n",
       "      <td>5.65</td>\n",
       "      <td>2.45</td>\n",
       "      <td>20.5</td>\n",
       "      <td>95.0</td>\n",
       "      <td>1.68</td>\n",
       "      <td>0.61</td>\n",
       "      <td>0.52</td>\n",
       "      <td>1.06</td>\n",
       "      <td>7.70</td>\n",
       "      <td>0.64</td>\n",
       "      <td>1.74</td>\n",
       "      <td>740.0</td>\n",
       "    </tr>\n",
       "    <tr>\n",
       "      <th>174</th>\n",
       "      <td>2.0</td>\n",
       "      <td>13.40</td>\n",
       "      <td>3.91</td>\n",
       "      <td>2.48</td>\n",
       "      <td>23.0</td>\n",
       "      <td>102.0</td>\n",
       "      <td>1.80</td>\n",
       "      <td>0.75</td>\n",
       "      <td>0.43</td>\n",
       "      <td>1.41</td>\n",
       "      <td>7.30</td>\n",
       "      <td>0.70</td>\n",
       "      <td>1.56</td>\n",
       "      <td>750.0</td>\n",
       "    </tr>\n",
       "    <tr>\n",
       "      <th>175</th>\n",
       "      <td>2.0</td>\n",
       "      <td>13.27</td>\n",
       "      <td>4.28</td>\n",
       "      <td>2.26</td>\n",
       "      <td>20.0</td>\n",
       "      <td>120.0</td>\n",
       "      <td>1.59</td>\n",
       "      <td>0.69</td>\n",
       "      <td>0.43</td>\n",
       "      <td>1.35</td>\n",
       "      <td>10.20</td>\n",
       "      <td>0.59</td>\n",
       "      <td>1.56</td>\n",
       "      <td>835.0</td>\n",
       "    </tr>\n",
       "    <tr>\n",
       "      <th>176</th>\n",
       "      <td>2.0</td>\n",
       "      <td>13.17</td>\n",
       "      <td>2.59</td>\n",
       "      <td>2.37</td>\n",
       "      <td>20.0</td>\n",
       "      <td>120.0</td>\n",
       "      <td>1.65</td>\n",
       "      <td>0.68</td>\n",
       "      <td>0.53</td>\n",
       "      <td>1.46</td>\n",
       "      <td>9.30</td>\n",
       "      <td>0.60</td>\n",
       "      <td>1.62</td>\n",
       "      <td>840.0</td>\n",
       "    </tr>\n",
       "    <tr>\n",
       "      <th>177</th>\n",
       "      <td>2.0</td>\n",
       "      <td>14.13</td>\n",
       "      <td>4.10</td>\n",
       "      <td>2.74</td>\n",
       "      <td>24.5</td>\n",
       "      <td>96.0</td>\n",
       "      <td>2.05</td>\n",
       "      <td>0.76</td>\n",
       "      <td>0.56</td>\n",
       "      <td>1.35</td>\n",
       "      <td>9.20</td>\n",
       "      <td>0.61</td>\n",
       "      <td>1.60</td>\n",
       "      <td>560.0</td>\n",
       "    </tr>\n",
       "  </tbody>\n",
       "</table>\n",
       "<p>178 rows × 14 columns</p>\n",
       "</div>"
      ],
      "text/plain": [
       "     Class  alcohol  malic_acid   ash  alcalinity_of_ash  magnesium  \\\n",
       "0      0.0    14.23        1.71  2.43               15.6      127.0   \n",
       "1      0.0    13.20        1.78  2.14               11.2      100.0   \n",
       "2      0.0    13.16        2.36  2.67               18.6      101.0   \n",
       "3      0.0    14.37        1.95  2.50               16.8      113.0   \n",
       "4      0.0    13.24        2.59  2.87               21.0      118.0   \n",
       "..     ...      ...         ...   ...                ...        ...   \n",
       "173    2.0    13.71        5.65  2.45               20.5       95.0   \n",
       "174    2.0    13.40        3.91  2.48               23.0      102.0   \n",
       "175    2.0    13.27        4.28  2.26               20.0      120.0   \n",
       "176    2.0    13.17        2.59  2.37               20.0      120.0   \n",
       "177    2.0    14.13        4.10  2.74               24.5       96.0   \n",
       "\n",
       "     total_phenols  flavanoids  nonflavanoid_phenols  proanthocyanins  \\\n",
       "0             2.80        3.06                  0.28             2.29   \n",
       "1             2.65        2.76                  0.26             1.28   \n",
       "2             2.80        3.24                  0.30             2.81   \n",
       "3             3.85        3.49                  0.24             2.18   \n",
       "4             2.80        2.69                  0.39             1.82   \n",
       "..             ...         ...                   ...              ...   \n",
       "173           1.68        0.61                  0.52             1.06   \n",
       "174           1.80        0.75                  0.43             1.41   \n",
       "175           1.59        0.69                  0.43             1.35   \n",
       "176           1.65        0.68                  0.53             1.46   \n",
       "177           2.05        0.76                  0.56             1.35   \n",
       "\n",
       "     color_intensity   hue  od280/od315_of_diluted_wines  proline  \n",
       "0               5.64  1.04                          3.92   1065.0  \n",
       "1               4.38  1.05                          3.40   1050.0  \n",
       "2               5.68  1.03                          3.17   1185.0  \n",
       "3               7.80  0.86                          3.45   1480.0  \n",
       "4               4.32  1.04                          2.93    735.0  \n",
       "..               ...   ...                           ...      ...  \n",
       "173             7.70  0.64                          1.74    740.0  \n",
       "174             7.30  0.70                          1.56    750.0  \n",
       "175            10.20  0.59                          1.56    835.0  \n",
       "176             9.30  0.60                          1.62    840.0  \n",
       "177             9.20  0.61                          1.60    560.0  \n",
       "\n",
       "[178 rows x 14 columns]"
      ]
     },
     "execution_count": 9,
     "metadata": {},
     "output_type": "execute_result"
    }
   ],
   "source": [
    "import pandas as pd\n",
    "\n",
    "df = pd.DataFrame(np.hstack((wine.target[:,np.newaxis],wine.data)), columns=['Class']+wine.feature_names)\n",
    "df"
   ]
  },
  {
   "cell_type": "markdown",
   "metadata": {},
   "source": [
    "Answer the following questions:\n",
    "\n",
    "1. Implement k-Means for the 13 wine features. Use the silhouette index to determine which value of $k$ best works for this data. Justify your answer.\n",
    "\n",
    "2. For the *optimal* value of $k$ found in the previous question, predict the clustering labels. Compute the rand index for these estimated labels vs the true labels."
   ]
  },
  {
   "cell_type": "code",
   "execution_count": 10,
   "metadata": {},
   "outputs": [
    {
     "name": "stdout",
     "output_type": "stream",
     "text": [
      "(178, 14)\n",
      "<class 'numpy.ndarray'> (178, 14)\n"
     ]
    },
    {
     "data": {
      "text/plain": [
       "1.78"
      ]
     },
     "execution_count": 10,
     "metadata": {},
     "output_type": "execute_result"
    }
   ],
   "source": [
    "print(df.shape)\n",
    "dfnp=df.to_numpy()\n",
    "print(type(dfnp),dfnp.shape)\n",
    "dfnp[1,2]"
   ]
  },
  {
   "cell_type": "code",
   "execution_count": 5,
   "metadata": {},
   "outputs": [],
   "source": [
    "def KMeans(X, K, MaxIter = 10_000, Thresh = 1e-5, Visualization = True):\n",
    "    '''This function implements K-Means algorithm. \n",
    "    Where the data X will be partitioned into K clusters.\n",
    "    Data matrix X is of size NxD, where N is the number of points and D the dimension of the data.'''\n",
    "\n",
    "    #Initialize Cluster Centers by drawing Randomly from Data (can use other\n",
    "    # methods for initialization...)\n",
    "    \n",
    "    #number of data points\n",
    "    N = X.shape[0] \n",
    "    \n",
    "    #random permutation of numbers 0:N-1\n",
    "    rp = permutation(N)\n",
    "    # shuffle the iterator range(0,N)\n",
    "    \n",
    "    #select first K data points sorted according to rp\n",
    "    centers = X[rp[0:K], :] # this should be KxD\n",
    "    \n",
    "    if Visualization:\n",
    "        fig = plt.figure()\n",
    "        plt.subplot(1,2,1)\n",
    "        plt.scatter(X[:,0],X[:,1],c='b')\n",
    "        plt.plot(centers[:,0],centers[:,1],'xr',markersize=20)\n",
    "        plt.title('Randomly select K='+str(K)+' data points as Centroids')\n",
    "        plt.show()\n",
    "    \n",
    "    diff    = np.inf;\n",
    "    iter    = 0;\n",
    "    while((diff > Thresh) & (iter < MaxIter)):\n",
    "        #Assign data to closest cluster representative (using Euclidean distance)\n",
    "        D = cdist(X, centers, metric='mahalanobis') # will be an array of size NxK\n",
    "        \n",
    "        L = np.argmin(D, axis=1) # this will be an array of size Nx1\n",
    "        \n",
    "\n",
    "        # Visualization\n",
    "        if Visualization:\n",
    "            plt.subplot(1,2,1)\n",
    "            plt.scatter(X[:,0],X[:,1],c=L)\n",
    "            plt.plot(centers[:,0],centers[:,1],'xr',markersize=20)\n",
    "            plt.title('Membership Assignment')\n",
    "            \n",
    "        #Update cluster centers\n",
    "        centersPrev = centers.copy()\n",
    "        for i in range(K):\n",
    "            centers[i,:]=np.mean(X[L==i, :], axis=0)\n",
    "\n",
    "        # Visualization\n",
    "        if Visualization:\n",
    "            plt.subplot(1,2,2)\n",
    "            plt.scatter(X[:,0],X[:,1],c=L)            \n",
    "            plt.plot(centers[:,0],centers[:,1],'xr',markersize=20)\n",
    "            plt.title('Update Cluster Centroids')\n",
    "            plt.pause(1)\n",
    "        \n",
    "        #Update diff & iteration count for stopping criteria\n",
    "        diff = np.linalg.norm(centersPrev - centers)\n",
    "        iter = iter+1\n",
    "    return centers, L\n",
    "\n",
    "# Plotting function for synthetically generated data\n",
    "def Plotting(X, true_labels, L, name):\n",
    "    if len(true_labels)>0:\n",
    "        fig = plt.figure(figsize=(12,4))\n",
    "        fig.add_subplot(1,2,1)\n",
    "        plt.scatter(X[:,0],X[:,1],c=true_labels)\n",
    "        plt.title(name)\n",
    "    else:\n",
    "        fig = plt.figure(figsize=(12,4))\n",
    "        fig.add_subplot(1,2,1)\n",
    "        plt.scatter(X[:,0],X[:,1],c='b')\n",
    "        plt.title(name)\n",
    "    fig.add_subplot(1,2,2)\n",
    "    plt.scatter(X[:, 0], X[:, 1], c=L)\n",
    "    plt.title(\"K-Means Clustering Results\")"
   ]
  },
  {
   "cell_type": "code",
   "execution_count": 45,
   "metadata": {},
   "outputs": [],
   "source": [
    "def KMeans_noplot(X, K, MaxIter = 10_000, Thresh = 1e-5, Visualization = True):\n",
    "    '''This function implements K-Means algorithm. \n",
    "    Where the data X will be partitioned into K clusters.\n",
    "    Data matrix X is of size NxD, where N is the number of points and D the dimension of the data.'''\n",
    "\n",
    "    #Initialize Cluster Centers by drawing Randomly from Data (can use other\n",
    "    # methods for initialization...)\n",
    "    \n",
    "    #number of data points\n",
    "    N = X.shape[0] \n",
    "    \n",
    "    #random permutation of numbers 0:N-1\n",
    "    rp = permutation(N)\n",
    "    # shuffle the iterator range(0,N)\n",
    "    \n",
    "    #select first K data points sorted according to rp\n",
    "    centers = X[rp[0:K], :] # this should be KxD\n",
    "    \n",
    "\n",
    "    diff    = np.inf;\n",
    "    iter    = 0;\n",
    "    while((diff > Thresh) & (iter < MaxIter)):\n",
    "        #Assign data to closest cluster representative (using Euclidean distance)\n",
    "        D = cdist(X, centers, metric='mahalanobis') # will be an array of size NxK\n",
    "        \n",
    "        L = np.argmin(D, axis=1) # this will be an array of size Nx1\n",
    "        \n",
    "\n",
    "\n",
    "        #Update cluster centers\n",
    "        centersPrev = centers.copy()\n",
    "        for i in range(K):\n",
    "            centers[i,:]=np.mean(X[L==i, :], axis=0)\n",
    "\n",
    "\n",
    "        #Update diff & iteration count for stopping criteria\n",
    "        diff = np.linalg.norm(centersPrev - centers)\n",
    "        iter = iter+1\n",
    "    return centers, L"
   ]
  },
  {
   "cell_type": "code",
   "execution_count": 11,
   "metadata": {},
   "outputs": [
    {
     "name": "stdout",
     "output_type": "stream",
     "text": [
      "(178, 13) (178,)\n"
     ]
    }
   ],
   "source": [
    "X_df=dfnp[:,1:14]\n",
    "Target=dfnp[:,0]\n",
    "print(X_df.shape,Target.shape)\n",
    "#KMeans(X_df, 3, MaxIter = 10_000, Thresh = 1e-5, Visualization = True)[1]"
   ]
  },
  {
   "cell_type": "code",
   "execution_count": 40,
   "metadata": {},
   "outputs": [
    {
     "name": "stdout",
     "output_type": "stream",
     "text": [
      "k that maximizes the Silhouette Index is  3\n"
     ]
    },
    {
     "data": {
      "image/png": "[encoded data removed]",
      "text/plain": [
       "<Figure size 432x288 with 1 Axes>"
      ]
     },
     "metadata": {
      "needs_background": "light"
     },
     "output_type": "display_data"
    }
   ],
   "source": [
    "from sklearn.metrics import silhouette_score\n",
    "kvalues=range(2,11)\n",
    "s=[]\n",
    "for k in kvalues:\n",
    "    _, labels, = KMeans_noplot(X_df, k, MaxIter = 10_000, Thresh = 1e-5, Visualization = True)\n",
    "    #labels = np.argmax(pZ_X, axis=1)\n",
    "#     GMM = GaussianMixture(n_components=k, random_state=0).fit(X)\n",
    "#     labels = GMM.predict(X)\n",
    "    s+= [silhouette_score(X_df, labels)]\n",
    "    \n",
    "koptimal = kvalues[np.argmax(s)]\n",
    "print('k that maximizes the Silhouette Index is ', koptimal)\n",
    "plt.plot(kvalues,s,'-o'); plt.grid()\n",
    "plt.plot(koptimal,s[np.argmax(s)],'*r',ms=10)\n",
    "plt.xlabel('Number of Components, $k$',size=15)\n",
    "plt.ylabel('Silhouette Index',size=15);"
   ]
  },
  {
   "cell_type": "markdown",
   "metadata": {},
   "source": [
    "As the picture shows, 3 is good."
   ]
  },
  {
   "cell_type": "markdown",
   "metadata": {},
   "source": [
    "### rand index"
   ]
  },
  {
   "cell_type": "code",
   "execution_count": 43,
   "metadata": {},
   "outputs": [
    {
     "data": {
      "text/plain": [
       "0.8625485319615126"
      ]
     },
     "execution_count": 43,
     "metadata": {},
     "output_type": "execute_result"
    }
   ],
   "source": [
    "from sklearn.metrics import adjusted_rand_score\n",
    "\n",
    "_, labels, = KMeans_noplot(X_df, 3, MaxIter = 10_000, Thresh = 1e-5, Visualization = True)\n",
    "\n",
    "adjusted_rand_score(Target, labels)"
   ]
  },
  {
   "cell_type": "markdown",
   "metadata": {},
   "source": [
    "# Problem 2\n",
    "\n",
    "Build a Python function to implement the $k$-Nearest Neighbors ($k$-NN) algorithm using Euclidean distance. \n",
    "\n",
    "* You should code this function on your own.\n",
    "* You are allowed to use any needed functions from ```numpy```.\n",
    "* You are allowed to use the function ```cdist``` from ```scipy.spatial.distance```."
   ]
  },
  {
   "cell_type": "code",
   "execution_count": 61,
   "metadata": {},
   "outputs": [],
   "source": [
    "from scipy.spatial.distance import cdist\n",
    "import heapq\n",
    "def KNN(X,k,labels, new_data_point):\n",
    "    #distances =  cdist(X, new_data_point, metric='mahalanobis')\n",
    "    labels=labels.astype(np.int64)\n",
    "    distances = np.linalg.norm(X - new_data_point, axis=1)\n",
    "    nearest_neighbor_ids = distances.argsort()[:k]\n",
    "    #indexofKNN=distances.where(nearest_neighbor_ids)\n",
    "    #indexofKNN=np.argpartition(distances,-K)[-K:]\n",
    "    #LabelofKNN=labels[indexofKNN]\n",
    "    LabelofKNN=labels[nearest_neighbor_ids]    \n",
    "    newlabel=np.argmax(np.bincount(LabelofKNN))\n",
    "    return newlabel"
   ]
  },
  {
   "cell_type": "code",
   "execution_count": 13,
   "metadata": {},
   "outputs": [
    {
     "data": {
      "text/plain": [
       "1"
      ]
     },
     "execution_count": 13,
     "metadata": {},
     "output_type": "execute_result"
    }
   ],
   "source": [
    "#test\n",
    "KNN(X_df,3,Target,X_df[1,:])"
   ]
  },
  {
   "cell_type": "markdown",
   "metadata": {},
   "source": [
    "# Problem 3\n",
    "In this problem you will be working with **Breast cancer wisconsin (diagnostic) dataset** from the UCI ML repository, also available in ```scikit-learn```. Let's load the data:"
   ]
  },
  {
   "cell_type": "code",
   "execution_count": 14,
   "metadata": {},
   "outputs": [
    {
     "name": "stdout",
     "output_type": "stream",
     "text": [
      ".. _breast_cancer_dataset:\n",
      "\n",
      "Breast cancer wisconsin (diagnostic) dataset\n",
      "--------------------------------------------\n",
      "\n",
      "**Data Set Characteristics:**\n",
      "\n",
      "    :Number of Instances: 569\n",
      "\n",
      "    :Number of Attributes: 30 numeric, predictive attributes and the class\n",
      "\n",
      "    :Attribute Information:\n",
      "        - radius (mean of distances from center to points on the perimeter)\n",
      "        - texture (standard deviation of gray-scale values)\n",
      "        - perimeter\n",
      "        - area\n",
      "        - smoothness (local variation in radius lengths)\n",
      "        - compactness (perimeter^2 / area - 1.0)\n",
      "        - concavity (severity of concave portions of the contour)\n",
      "        - concave points (number of concave portions of the contour)\n",
      "        - symmetry\n",
      "        - fractal dimension (\"coastline approximation\" - 1)\n",
      "\n",
      "        The mean, standard error, and \"worst\" or largest (mean of the three\n",
      "        worst/largest values) of these features were computed for each image,\n",
      "        resulting in 30 features.  For instance, field 0 is Mean Radius, field\n",
      "        10 is Radius SE, field 20 is Worst Radius.\n",
      "\n",
      "        - class:\n",
      "                - WDBC-Malignant\n",
      "                - WDBC-Benign\n",
      "\n",
      "    :Summary Statistics:\n",
      "\n",
      "    ===================================== ====== ======\n",
      "                                           Min    Max\n",
      "    ===================================== ====== ======\n",
      "    radius (mean):                        6.981  28.11\n",
      "    texture (mean):                       9.71   39.28\n",
      "    perimeter (mean):                     43.79  188.5\n",
      "    area (mean):                          143.5  2501.0\n",
      "    smoothness (mean):                    0.053  0.163\n",
      "    compactness (mean):                   0.019  0.345\n",
      "    concavity (mean):                     0.0    0.427\n",
      "    concave points (mean):                0.0    0.201\n",
      "    symmetry (mean):                      0.106  0.304\n",
      "    fractal dimension (mean):             0.05   0.097\n",
      "    radius (standard error):              0.112  2.873\n",
      "    texture (standard error):             0.36   4.885\n",
      "    perimeter (standard error):           0.757  21.98\n",
      "    area (standard error):                6.802  542.2\n",
      "    smoothness (standard error):          0.002  0.031\n",
      "    compactness (standard error):         0.002  0.135\n",
      "    concavity (standard error):           0.0    0.396\n",
      "    concave points (standard error):      0.0    0.053\n",
      "    symmetry (standard error):            0.008  0.079\n",
      "    fractal dimension (standard error):   0.001  0.03\n",
      "    radius (worst):                       7.93   36.04\n",
      "    texture (worst):                      12.02  49.54\n",
      "    perimeter (worst):                    50.41  251.2\n",
      "    area (worst):                         185.2  4254.0\n",
      "    smoothness (worst):                   0.071  0.223\n",
      "    compactness (worst):                  0.027  1.058\n",
      "    concavity (worst):                    0.0    1.252\n",
      "    concave points (worst):               0.0    0.291\n",
      "    symmetry (worst):                     0.156  0.664\n",
      "    fractal dimension (worst):            0.055  0.208\n",
      "    ===================================== ====== ======\n",
      "\n",
      "    :Missing Attribute Values: None\n",
      "\n",
      "    :Class Distribution: 212 - Malignant, 357 - Benign\n",
      "\n",
      "    :Creator:  Dr. William H. Wolberg, W. Nick Street, Olvi L. Mangasarian\n",
      "\n",
      "    :Donor: Nick Street\n",
      "\n",
      "    :Date: November, 1995\n",
      "\n",
      "This is a copy of UCI ML Breast Cancer Wisconsin (Diagnostic) datasets.\n",
      "https://goo.gl/U2Uwz2\n",
      "\n",
      "Features are computed from a digitized image of a fine needle\n",
      "aspirate (FNA) of a breast mass.  They describe\n",
      "characteristics of the cell nuclei present in the image.\n",
      "\n",
      "Separating plane described above was obtained using\n",
      "Multisurface Method-Tree (MSM-T) [K. P. Bennett, \"Decision Tree\n",
      "Construction Via Linear Programming.\" Proceedings of the 4th\n",
      "Midwest Artificial Intelligence and Cognitive Science Society,\n",
      "pp. 97-101, 1992], a classification method which uses linear\n",
      "programming to construct a decision tree.  Relevant features\n",
      "were selected using an exhaustive search in the space of 1-4\n",
      "features and 1-3 separating planes.\n",
      "\n",
      "The actual linear program used to obtain the separating plane\n",
      "in the 3-dimensional space is that described in:\n",
      "[K. P. Bennett and O. L. Mangasarian: \"Robust Linear\n",
      "Programming Discrimination of Two Linearly Inseparable Sets\",\n",
      "Optimization Methods and Software 1, 1992, 23-34].\n",
      "\n",
      "This database is also available through the UW CS ftp server:\n",
      "\n",
      "ftp ftp.cs.wisc.edu\n",
      "cd math-prog/cpo-dataset/machine-learn/WDBC/\n",
      "\n",
      ".. topic:: References\n",
      "\n",
      "   - W.N. Street, W.H. Wolberg and O.L. Mangasarian. Nuclear feature extraction \n",
      "     for breast tumor diagnosis. IS&T/SPIE 1993 International Symposium on \n",
      "     Electronic Imaging: Science and Technology, volume 1905, pages 861-870,\n",
      "     San Jose, CA, 1993.\n",
      "   - O.L. Mangasarian, W.N. Street and W.H. Wolberg. Breast cancer diagnosis and \n",
      "     prognosis via linear programming. Operations Research, 43(4), pages 570-577, \n",
      "     July-August 1995.\n",
      "   - W.H. Wolberg, W.N. Street, and O.L. Mangasarian. Machine learning techniques\n",
      "     to diagnose breast cancer from fine-needle aspirates. Cancer Letters 77 (1994) \n",
      "     163-171.\n"
     ]
    }
   ],
   "source": [
    "from sklearn.datasets import load_breast_cancer\n",
    "\n",
    "dataset = load_breast_cancer(return_X_y=False)\n",
    "\n",
    "print(dataset.DESCR)"
   ]
  },
  {
   "cell_type": "markdown",
   "metadata": {},
   "source": [
    "For this problem, you will only be working with the radius and texture features:"
   ]
  },
  {
   "cell_type": "code",
   "execution_count": 16,
   "metadata": {},
   "outputs": [
    {
     "name": "stdout",
     "output_type": "stream",
     "text": [
      "(569, 2) (569,)\n"
     ]
    }
   ],
   "source": [
    "X = dataset.data[:,:2]\n",
    "y = dataset.target\n",
    "print(X.shape,y.shape)"
   ]
  },
  {
   "cell_type": "markdown",
   "metadata": {},
   "source": [
    "Answer the following questions:\n",
    "\n",
    "1. Partition the data into training and test using 70/30 partition, respectively.\n",
    "\n",
    "2. Train a Naive Bayes Classifier using the training data. Using the test data, evaluate the classifier performance using accuracy and confusion matrix.\n",
    "\n",
    "3. Train a $k$-NN classifier with $k=3$ using the training data. Using the test data, evaluate the classifier performance using accuracy and confusion matrix.\n",
    "\n",
    "4. From the results you obtained in 2 and 3, which model performs best? Explain your reasoning.\n",
    "\n",
    "5. Implement 4-fold cross-validation to find out the best value of $k$ that maximizes the model's accuracy.\n",
    "\n",
    "\n",
    "Utils:\n",
    "* You can use the functions ```confusion_matrix``` and ```accuracy_score``` from the module ```sklearn.metrics```.\n",
    "* You can use the functions ```train_test_split``` and ```KFold``` from the module ```sklearn.model_selection```."
   ]
  },
  {
   "cell_type": "code",
   "execution_count": 1,
   "metadata": {},
   "outputs": [],
   "source": [
    "from sklearn.metrics import confusion_matrix\n",
    "from sklearn.metrics import accuracy_score\n",
    "from sklearn.model_selection import train_test_split\n",
    "from sklearn.model_selection import KFold"
   ]
  },
  {
   "cell_type": "markdown",
   "metadata": {},
   "source": [
    "1. Partition the data into training and test using 70/30 partition, respectively."
   ]
  },
  {
   "cell_type": "code",
   "execution_count": 17,
   "metadata": {},
   "outputs": [
    {
     "name": "stdout",
     "output_type": "stream",
     "text": [
      "(171, 2) (398, 2) (171,)\n"
     ]
    }
   ],
   "source": [
    "X_train, X_test, y_train, y_test = train_test_split(X, y, test_size=0.3, random_state=42)\n",
    "print(X_test.shape,X_train.shape,y_test.shape)"
   ]
  },
  {
   "cell_type": "markdown",
   "metadata": {},
   "source": [
    "2. Train a Naive Bayes Classifier using the training data. Using the test data, evaluate the classifier performance using accuracy and confusion matrix."
   ]
  },
  {
   "cell_type": "code",
   "execution_count": 74,
   "metadata": {},
   "outputs": [
    {
     "name": "stdout",
     "output_type": "stream",
     "text": [
      "(398,)\n",
      "(249, 2) (149, 2)\n"
     ]
    }
   ],
   "source": [
    "print(y_train.shape)\n",
    "print(X_train[y_train==1,:].shape,X_train[y_train==0,:].shape)"
   ]
  },
  {
   "cell_type": "code",
   "execution_count": 38,
   "metadata": {},
   "outputs": [],
   "source": [
    "from scipy.stats import multivariate_normal # multivariate form of stats.norm\n",
    "\n",
    "def NBC(X_train,y_train,X_test,y_test):\n",
    "    #### Estimate parameters #历史原因命名乱了\n",
    "    # Means\n",
    "    mu1 = np.mean(X_train[y_train==0,:], axis=0)\n",
    "    #print('Mean of Class 0: ', mu1)\n",
    "    mu2 = np.mean(X_train[y_train==1,:], axis=0)\n",
    "    #print('Mean of Class 1: ', mu2)\n",
    "    # Covariances\n",
    "    cov1 = np.cov(X_train[y_train==0,:].T) # expects the data to be DxN\n",
    "    #print('Covariance of Class 0: ',cov1)\n",
    "    cov2 = np.cov(X_train[y_train==1,:].T)\n",
    "    #print('Covariance of Class 1: ',cov2)\n",
    "    #### Estimate Prior Probabilities\n",
    "    N = X_train.shape[0]\n",
    "    N1=X_train[y_train==0,:].shape[0]\n",
    "    N2=X_train[y_train==1,:].shape[0]\n",
    "    #print(N,N1,N2)\n",
    "    p1 = N1/N\n",
    "    #print('Probability of  Class 0: ',p1)\n",
    "    p2 = N2/N\n",
    "    #print('Probability of  Class 1: ',p2)\n",
    "\n",
    "    y1 = multivariate_normal.pdf(X_test, mean=mu1, cov=cov1) #P(x|C1)\n",
    "    y2 = multivariate_normal.pdf(X_test, mean=mu2, cov=cov2) #P(x|C2)\n",
    "    # Let's take a look at the posterior distributions: they represent our classification decision\n",
    "    pos1 = y1*p1 / (y1*p1 + y2*p2) # P(C1|x) = P(x|C1)*P(C1) / (P(x|C1)*P(C1) + P(x|C2)*P(C2))\n",
    "    pos2 = y2*p2 / (y1*p1 + y2*p2)\n",
    "    return(np.array(pos1<pos2))\n"
   ]
  },
  {
   "cell_type": "code",
   "execution_count": 89,
   "metadata": {},
   "outputs": [
    {
     "name": "stdout",
     "output_type": "stream",
     "text": [
      "[[ 50  13]\n",
      " [  4 104]]\n",
      "0.8547008547008547\n"
     ]
    }
   ],
   "source": [
    "from sklearn.metrics import confusion_matrix\n",
    "result_NBC=NBC(X_train,y_train,X_test,y_test)+0\n",
    "#print(result_NBC)\n",
    "print(confusion_matrix(y_test,result_NBC))\n",
    "print(2*50/(2*50+4+13))\n"
   ]
  },
  {
   "cell_type": "markdown",
   "metadata": {},
   "source": [
    "3. Train a $k$-NN classifier with $k=3$ using the training data. Using the test data, evaluate the classifier performance using accuracy and confusion matrix."
   ]
  },
  {
   "cell_type": "code",
   "execution_count": 66,
   "metadata": {},
   "outputs": [
    {
     "name": "stdout",
     "output_type": "stream",
     "text": [
      "[[ 48  15]\n",
      " [  8 100]]\n",
      "0.8067226890756303\n"
     ]
    }
   ],
   "source": [
    "#KNN(X,K,labels, new_data_point):\n",
    "result_KNN=np.zeros(X_test.shape[0])\n",
    "for i in range(X_test.shape[0]):\n",
    "    result_KNN[i]=KNN(X_train,3,y_train,X_test[i,:])\n",
    "#print(X_test.shape[0],result_KNN,y_test)\n",
    "print(confusion_matrix(y_test,result_KNN))\n",
    "print(2*48/(2*48+15+8))"
   ]
  },
  {
   "cell_type": "markdown",
   "metadata": {},
   "source": [
    "4. From the results you obtained in 2 and 3, which model performs best? Explain your reasoning.   \n",
    "\n",
    "    Naive Bayes Classifier, because it has better F1 socre. 0.85>0.81"
   ]
  },
  {
   "cell_type": "markdown",
   "metadata": {},
   "source": [
    "5. Implement 4-fold cross-validation to find out the best value of $k$ that maximizes the model's accuracy.\n"
   ]
  },
  {
   "cell_type": "code",
   "execution_count": 67,
   "metadata": {},
   "outputs": [],
   "source": [
    "from sklearn.model_selection import train_test_split\n",
    "from sklearn.model_selection import KFold\n",
    "from scipy.stats import linregress"
   ]
  },
  {
   "cell_type": "code",
   "execution_count": 98,
   "metadata": {},
   "outputs": [
    {
     "data": {
      "text/plain": [
       "\"kf = KFold(n_splits=4)\\nprint(kf)\\nfor M in range(1,10):\\n    F1score=0\\n    for X_traini,X_vali in kf.split(X_train):\\n        #print(y_train[X_traini])\\n        result_NBC_K=NBC(X_train[X_traini,:],y_train[X_traini],X_train[X_vali,:],y_train[X_vali])+0\\n        #print(result_NBC_K,y_train[X_vali])\\n        a=result_NBC_K.astype(int)\\n        b=y_train[X_vali].astype(int) #我也不知道为什么要加这两句但是不加不行\\n        #print('When K==',M,'the matricx for')\\n        #print(confusion_matrix(b,a))\\n        confu=confusion_matrix(b,a)\\n        F1score+=2*confu[0,0]/(2*confu[0,0]+confu[0,1]+confu[1,0])/4\\n    print('for K==',M,'the avarage F1 score is',F1score)不舍得删而已,就当是病历了\""
      ]
     },
     "execution_count": 98,
     "metadata": {},
     "output_type": "execute_result"
    }
   ],
   "source": [
    "'''kf = KFold(n_splits=4)\n",
    "print(kf)\n",
    "for M in range(1,10):\n",
    "    F1score=0\n",
    "    for X_traini,X_vali in kf.split(X_train):\n",
    "        #print(y_train[X_traini])\n",
    "        result_NBC_K=NBC(X_train[X_traini,:],y_train[X_traini],X_train[X_vali,:],y_train[X_vali])+0\n",
    "        #print(result_NBC_K,y_train[X_vali])\n",
    "        a=result_NBC_K.astype(int)\n",
    "        b=y_train[X_vali].astype(int) #我也不知道为什么要加这两句但是不加不行\n",
    "        #print('When K==',M,'the matricx for')\n",
    "        #print(confusion_matrix(b,a))\n",
    "        confu=confusion_matrix(b,a)\n",
    "        F1score+=2*confu[0,0]/(2*confu[0,0]+confu[0,1]+confu[1,0])/4\n",
    "    print('for K==',M,'the avarage F1 score is',F1score)不舍得删而已,就当是病历了'''"
   ]
  },
  {
   "cell_type": "code",
   "execution_count": 96,
   "metadata": {},
   "outputs": [
    {
     "name": "stdout",
     "output_type": "stream",
     "text": [
      "KFold(n_splits=4, random_state=None, shuffle=False)\n",
      "for K== 1 the avarage F1 score is 0.8054608585199129\n",
      "for K== 2 the avarage F1 score is 0.7668332884295326\n",
      "for K== 3 the avarage F1 score is 0.8165105495404221\n",
      "for K== 4 the avarage F1 score is 0.8124288617886178\n",
      "for K== 5 the avarage F1 score is 0.8218893148427462\n",
      "for K== 6 the avarage F1 score is 0.8230592542314992\n",
      "for K== 7 the avarage F1 score is 0.835997578148407\n",
      "for K== 8 the avarage F1 score is 0.8330042586140146\n",
      "for K== 9 the avarage F1 score is 0.8325796580440543\n"
     ]
    }
   ],
   "source": [
    "kf = KFold(n_splits=4)\n",
    "print(kf)\n",
    "for M in range(1,10):\n",
    "    F1score=0\n",
    "    for X_traini,X_vali in kf.split(X_train):\n",
    "        result_KNN=np.zeros(X_train[X_vali,:].shape[0])\n",
    "        newtest=X_train[X_vali,:]\n",
    "        for i in range(X_train[X_vali,:].shape[0]):\n",
    "            result_KNN[i]=KNN(X_train[X_traini,:],M,y_train[X_traini],newtest[i,:])\n",
    "        #print(confusion_matrix(y_train[X_vali],result_KNN))\n",
    "        confu=confusion_matrix(y_train[X_vali],result_KNN)\n",
    "        F1score+=2*confu[0,0]/(2*confu[0,0]+confu[0,1]+confu[1,0])/4\n",
    "    print('for K==',M,'the avarage F1 score is',F1score)"
   ]
  },
  {
   "cell_type": "markdown",
   "metadata": {},
   "source": [
    "the besk K is 7"
   ]
  },
  {
   "cell_type": "markdown",
   "metadata": {},
   "source": [
    "# Problem 4\n",
    "\n",
    "Consider the following data in a 2-dimensional feature space, $x_1$ and $x_2$, and its corresponding labels, $t$:\n",
    "\n",
    "|$x_1$|$x_2$|$t$|\n",
    "|--|--|--|\n",
    "|0|0|0|\n",
    "|0.1|0|0|\n",
    "|-0.1|0.1|0|\n",
    "|0.05|0.1|0|\n",
    "|-0.1|0|0|\n",
    "|0.05|-0.1|0|\n",
    "|1|1|1|\n",
    "|1.2|0.9|1|\n",
    "|0.9|1.1|1|\n",
    "|0.8|0.9|1|\n",
    "|2|1|1|\n",
    "|1.5|0.9|1|\n",
    "\n",
    "Answer the following questions:\n",
    "\n",
    "1. Find the Fisher's linear discriminant function. \n",
    "\n",
    "2. Specify all the parameters of the discriminant. "
   ]
  },
  {
   "cell_type": "code",
   "execution_count": 97,
   "metadata": {},
   "outputs": [],
   "source": [
    "\n",
    "import matplotlib.pyplot as plt\n",
    "%matplotlib inline\n",
    "plt.style.use('bmh')"
   ]
  },
  {
   "cell_type": "code",
   "execution_count": 134,
   "metadata": {},
   "outputs": [],
   "source": [
    "def fisherDiscriminant(data,t):\n",
    "    data1 = data[t==0,:]\n",
    "    data2 = data[t==1,:]\n",
    "    mean1 = np.atleast_2d(np.mean(data1,0))\n",
    "    mean2 = np.atleast_2d(np.mean(data2,0))\n",
    "    Sw1 = np.dstack([(data1[i,:]-mean1).T@(data1[i,:]-mean1) for i in range(data1.shape[0])])\n",
    "    Sw2 = np.dstack([(data2[i,:]-mean2).T@(data2[i,:]-mean2) for i in range(data2.shape[0])])\n",
    "    Sw = np.sum(Sw1,2) + np.sum(Sw2,2)\n",
    "    w = np.linalg.inv(Sw)@(mean2 - mean1).T\n",
    "    w = w/np.linalg.norm(w)\n",
    "    data_t = data@w\n",
    "    return w, data_t\n",
    "\n",
    "def discriminant(data, labels, v):\n",
    "    v_perp = np.array([v[1], -v[0]])\n",
    "    b = ((np.mean(data[labels==0,:],axis=0)+np.mean(data[labels==1,:],axis=0))/2)@v\n",
    "    lambda_vec = np.linspace(-3,3,len(data))\n",
    "    v_line = lambda_vec * v\n",
    "    decision_boundary = b * v + lambda_vec * v_perp\n",
    "    return v_line, decision_boundary,b"
   ]
  },
  {
   "cell_type": "code",
   "execution_count": 135,
   "metadata": {},
   "outputs": [
    {
     "name": "stdout",
     "output_type": "stream",
     "text": [
      "[[0.09541778]\n",
      " [0.99543731]]\n",
      "[0.54826431]\n"
     ]
    },
    {
     "data": {
      "image/png": "[encoded data removed]",
      "text/plain": [
       "<Figure size 720x360 with 1 Axes>"
      ]
     },
     "metadata": {
      "needs_background": "light"
     },
     "output_type": "display_data"
    }
   ],
   "source": [
    "t=np.zeros(12)\n",
    "t[-6:]=1\n",
    "labels=t\n",
    "X=np.array([[0,0],[0.1,0],[-0.1,0.1],[0.05,0.1],[-0.1,0],[0.05,-0.1],[1,1],[1.2,0.9],[0.9,1.1],[0.8,0.9],[2,1],[1.5,0.9]])\n",
    "v, Y = fisherDiscriminant(X,t)\n",
    "plt.figure(figsize=(10,5))\n",
    "plt.scatter(X[:,0],X[:,1],c=labels)\n",
    "\n",
    "v_line, decision_boundary ,b= discriminant(X, labels, v);\n",
    "\n",
    "plt.plot(v_line[0], v_line[1], 'red', linewidth=3, label='Direction of Projection')\n",
    "plt.plot(decision_boundary[0,:], decision_boundary[1,:],'blue',linewidth=3, label='Decision Boundary')\n",
    "plt.title('LDA'); plt.axis('equal'); plt.legend(loc='best',fontsize=15);\n",
    "print(v)\n",
    "print(b)\n"
   ]
  },
  {
   "cell_type": "markdown",
   "metadata": {},
   "source": [
    "the function is 0.09541778*x1+0.99543731*x2=0.54826431   \n",
    "w=[[0.09541778]\n",
    " [0.99543731]]   \n",
    "b=[0.54826431]   "
   ]
  },
  {
   "cell_type": "markdown",
   "metadata": {},
   "source": [
    "## Submit your Solution\n",
    "\n",
    "Confirm that you've successfully completed the assignment.\n",
    "\n",
    "Along with the Notebook, include a PDF of the notebook with your solutions.\n",
    "\n",
    "```add``` and ```commit``` the final version of your work, and ```push``` your code to your GitHub repository.\n",
    "\n",
    "Submit the URL of your GitHub Repository as your assignment submission on Canvas."
   ]
  }
 ],
 "metadata": {
  "kernelspec": {
   "display_name": "Python 3 (ipykernel)",
   "language": "python",
   "name": "python3"
  },
  "language_info": {
   "codemirror_mode": {
    "name": "ipython",
    "version": 3
   },
   "file_extension": ".py",
   "mimetype": "text/x-python",
   "name": "python",
   "nbconvert_exporter": "python",
   "pygments_lexer": "ipython3",
   "version": "3.10.1"
  },
  "latex_envs": {
   "LaTeX_envs_menu_present": true,
   "autoclose": true,
   "autocomplete": true,
   "bibliofile": "biblio.bib",
   "cite_by": "apalike",
   "current_citInitial": 1,
   "eqLabelWithNumbers": true,
   "eqNumInitial": 1,
   "hotkeys": {
    "equation": "Ctrl-E",
    "itemize": "Ctrl-I"
   },
   "labels_anchors": false,
   "latex_user_defs": false,
   "report_style_numbering": false,
   "user_envs_cfg": false
  },
  "varInspector": {
   "cols": {
    "lenName": 16,
    "lenType": 16,
    "lenVar": 40
   },
   "kernels_config": {
    "python": {
     "delete_cmd_postfix": "",
     "delete_cmd_prefix": "del ",
     "library": "var_list.py",
     "varRefreshCmd": "print(var_dic_list())"
    },
    "r": {
     "delete_cmd_postfix": ") ",
     "delete_cmd_prefix": "rm(",
     "library": "var_list.r",
     "varRefreshCmd": "cat(var_dic_list()) "
    }
   },
   "types_to_exclude": [
    "module",
    "function",
    "builtin_function_or_method",
    "instance",
    "_Feature"
   ],
   "window_display": false
  }
 },
 "nbformat": 4,
 "nbformat_minor": 2
}
