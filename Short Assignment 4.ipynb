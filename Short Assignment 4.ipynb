{
 "cells": [
  {
   "cell_type": "markdown",
   "metadata": {},
   "source": [
    "# Short Assignment 4\n",
    "\n",
    "This is an individual assignment. \n",
    "\n",
    "**Due: Thursday, March 3 @ 11:59PM**"
   ]
  },
  {
   "cell_type": "markdown",
   "metadata": {},
   "source": [
    "# Problem 1\n",
    "\n",
    "**Solve this problem on paper.**\n",
    "\n",
    "Suppose you have the following training data set:\n",
    "\n",
    "$$X=\\{(1,1,2),(10,3,0),(-5,-4,1),(2,-3,1),(10,10,20),(0,0,0)\\}$$\n",
    "\n",
    "with training labels\n",
    "\n",
    "$$y=\\{-1,1,1,-1,-1,1\\}$$\n",
    "\n",
    "where $y_i=1$ indicates a true target and $y_i=-1$ indicates a non-target data point. Suppose you trained a $k$-NN classifier to produce a confidence of target given a sample. For the above data points, your $k$-NN produced the following confidence values:\n",
    "\n",
    "$$c=\\{0.7,0.6,0.2,0.3,0,0.9\\}$$\n",
    "\n",
    "Answer the following questions:\n",
    "\n",
    "1. Draw the associated ROC curve.\n",
    "\n",
    "2. To make a final decision, suppose your threshold is $c=0.5$ (confidence value), where samples with confidence values $\\leq 0.5$ are marked as non-target and samples with confidence values $>0.5$ are marked as target. What would be your resulting confusion matrix, FPR and TPR?"
   ]
  },
  {
   "cell_type": "markdown",
   "metadata": {},
   "source": []
  },
  {
   "cell_type": "code",
   "execution_count": null,
   "metadata": {},
   "outputs": [],
   "source": []
  },
  {
   "cell_type": "code",
   "execution_count": null,
   "metadata": {},
   "outputs": [],
   "source": []
  },
  {
   "cell_type": "code",
   "execution_count": null,
   "metadata": {},
   "outputs": [],
   "source": []
  },
  {
   "cell_type": "code",
   "execution_count": null,
   "metadata": {},
   "outputs": [],
   "source": []
  },
  {
   "cell_type": "markdown",
   "metadata": {},
   "source": [
    "# Problem 2\n",
    "\n",
    "The starter code below is an incomplete implementation of the EM algorithm to optimize a Gaussian Mixture Model data likelihood.\n",
    "\n",
    "In this problem, you will complete the provided code by filling in the empty slots (do not use any library or online implementations)."
   ]
  },
  {
   "cell_type": "code",
   "execution_count": 2,
   "metadata": {},
   "outputs": [],
   "source": [
    "import numpy as np\n",
    "from scipy.stats import multivariate_normal\n",
    "import matplotlib.pyplot as plt\n",
    "%matplotlib inline"
   ]
  },
  {
   "cell_type": "code",
   "execution_count": 8,
   "metadata": {},
   "outputs": [
    {
     "data": {
      "text/plain": [
       "array([[ 2,  6, 12],\n",
       "       [ 2,  2,  3]])"
      ]
     },
     "execution_count": 8,
     "metadata": {},
     "output_type": "execute_result"
    }
   ],
   "source": [
    "a=np.array([[2,3,4],[2,1,1]])\n",
    "b=np.array([1, 2, 3])\n",
    "c=a*b\n",
    "c"
   ]
  },
  {
   "cell_type": "code",
   "execution_count": null,
   "metadata": {},
   "outputs": [],
   "source": [
    "def EM_GaussianMixture(X, NumComponents, MaximumNumberOfIterations=100, DiffThresh=1e-4):\n",
    "    '''This function implements the EM algorithm for a Gaussian Mixture Model'''\n",
    "    \n",
    "    # Size of the input data: N number of points, D features\n",
    "    N, D = X.shape\n",
    "    \n",
    "    # Initialize Parameters of each Component K\n",
    "    Means = np.zeros((NumComponents,D))\n",
    "    Sigs = np.zeros(((D, D, NumComponents)))\n",
    "    Ps = np.zeros(NumComponents)\n",
    "    for i in range(NumComponents):\n",
    "        rVal = np.random.uniform(0,1)\n",
    "        Means[i,:] = X[max(1,round(N*rVal)),:]\n",
    "        Sigs[:,:,i] = 1*np.eye(D)\n",
    "        Ps[i] = 1/NumComponents\n",
    "        \n",
    "    # E-Step Solve for p(z | x, Theta(t)) = Cik\n",
    "    pZ_X = np.zeros((N,NumComponents))\n",
    "    for k in range(NumComponents):\n",
    "        # Assign each point to a (multivariate) Gaussian component with probability pi(k)\n",
    "        denomuinator=0\n",
    "        for k1 in range(NumComponents):\n",
    "            denomuinator+= multivariate_normal(Means[k1,:],Sigs[:,:,k1]).pdf(X)*Ps[k1]\n",
    "        pZ_X[:,k] = multivariate_normal(Means[k,:],Sigs[:,:,k]).pdf(X)*Ps[k]/denomuinator\n",
    "    \n",
    "    Diff = np.inf\n",
    "    NumberIterations = 1\n",
    "    while Diff > DiffThresh and NumberIterations < MaximumNumberOfIterations:\n",
    "        ## M-step: Update Means, Sigs, Ps\n",
    "        MeansOld = Means.copy()\n",
    "        SigsOld = Sigs.copy()\n",
    "        PsOld = Ps.copy()\n",
    "        for k in range(NumComponents):\n",
    "            ## Complete M-step: Update parameters\n",
    "            #Means\n",
    "            pZ=np.reshape(pZ_X[:,k],[N,1])\n",
    "            Means[k,:] = Means[k,:] = (X*pZ).sum(axis=0)/sum(pZ_X[:,k])# complete this line\n",
    "            \n",
    "            #Sigs\n",
    "            xDiff = X-MeansOld[k,:]            \n",
    "            J = np.zeros((D,D))\n",
    "            for i in range(N):\n",
    "                J = J + pZ_X[i,k]*np.outer(xDiff[i,:], xDiff[i,:])\n",
    "            Sigs[:,:,k] = J / sum(pZ_X[:,k])#妙\n",
    "            \n",
    "            #Ps\n",
    "            Ps[k] = sum(pZ_X[:,k])/NumComponents# complete this line\n",
    "            \n",
    "        ## E-step: Solve for p(z | x, Theta(t))\n",
    "        # Complete E-step\n",
    "        for k in range(NumComponents):\n",
    "            # Assign each point to a Gaussian component with probability pi(k)\n",
    "            denomuinator=0\n",
    "            for k1 in range(NumComponents):\n",
    "                denomuinator+= multivariate_normal(Means[k1,:],Sigs[:,:,k1]).pdf(X)*Ps[k1]\n",
    "            pZ_X[:,k] = multivariate_normal(Means[k,:],Sigs[:,:,k]).pdf(X)*Ps[k]/denomuinator # complete this line\n",
    "        \n",
    "        Diff = sum(sum(abs(MeansOld - Means))) + sum(sum(sum(abs(SigsOld - Sigs)))) + sum(abs(PsOld - Ps))\n",
    "        print('t = ',NumberIterations,': \\t', Diff)\n",
    "        NumberIterations = NumberIterations + 1\n",
    "    return Means, Sigs, Ps, pZ_X"
   ]
  },
  {
   "cell_type": "markdown",
   "metadata": {},
   "source": [
    "# Problem 3\n",
    "\n",
    "Using your code in problem 3, determine the mixture proportion, mean and (diagonal) covariance associated with each of the mixture component in the data contained in mixture.txt.\n",
    "\n",
    "In your solution include:\n",
    "\n",
    "* a plot where each data point is color-coded by their weight responsabilities (you have been provided with the plotting script).\n",
    "\n",
    "* a plot where each data point is color-coded by their cluster membership.\n",
    "\n",
    "Answer the following questions:\n",
    "\n",
    "1. How many mixture components are found in the data?\n",
    "\n",
    "2. How did you determine this?\n",
    "\n",
    "3. What did you estimate for the mixture components, means and covariances associated with each mixture component?"
   ]
  },
  {
   "cell_type": "code",
   "execution_count": null,
   "metadata": {},
   "outputs": [],
   "source": []
  },
  {
   "cell_type": "code",
   "execution_count": null,
   "metadata": {},
   "outputs": [],
   "source": []
  },
  {
   "cell_type": "code",
   "execution_count": null,
   "metadata": {},
   "outputs": [],
   "source": []
  },
  {
   "cell_type": "code",
   "execution_count": null,
   "metadata": {},
   "outputs": [],
   "source": []
  },
  {
   "cell_type": "markdown",
   "metadata": {},
   "source": [
    "# Submit Your Solution\n",
    "\n",
    "Confirm that you've successfully completed the assignment.\n",
    "\n",
    "Along with the Notebook, include a PDF of the notebook with your solutions.\n",
    "\n",
    "```add``` and ```commit``` the final version of your work, and ```push``` your code to your GitHub repository.\n",
    "\n",
    "Submit the URL of your GitHub Repository as your assignment submission on Canvas."
   ]
  }
 ],
 "metadata": {
  "kernelspec": {
   "display_name": "Python 3",
   "language": "python",
   "name": "python3"
  },
  "language_info": {
   "codemirror_mode": {
    "name": "ipython",
    "version": 3
   },
   "file_extension": ".py",
   "mimetype": "text/x-python",
   "name": "python",
   "nbconvert_exporter": "python",
   "pygments_lexer": "ipython3",
   "version": "3.10.1"
  },
  "latex_envs": {
   "LaTeX_envs_menu_present": true,
   "autoclose": true,
   "autocomplete": true,
   "bibliofile": "biblio.bib",
   "cite_by": "apalike",
   "current_citInitial": 1,
   "eqLabelWithNumbers": true,
   "eqNumInitial": 1,
   "hotkeys": {
    "equation": "Ctrl-E",
    "itemize": "Ctrl-I"
   },
   "labels_anchors": false,
   "latex_user_defs": false,
   "report_style_numbering": false,
   "user_envs_cfg": false
  },
  "varInspector": {
   "cols": {
    "lenName": 16,
    "lenType": 16,
    "lenVar": 40
   },
   "kernels_config": {
    "python": {
     "delete_cmd_postfix": "",
     "delete_cmd_prefix": "del ",
     "library": "var_list.py",
     "varRefreshCmd": "print(var_dic_list())"
    },
    "r": {
     "delete_cmd_postfix": ") ",
     "delete_cmd_prefix": "rm(",
     "library": "var_list.r",
     "varRefreshCmd": "cat(var_dic_list()) "
    }
   },
   "types_to_exclude": [
    "module",
    "function",
    "builtin_function_or_method",
    "instance",
    "_Feature"
   ],
   "window_display": false
  }
 },
 "nbformat": 4,
 "nbformat_minor": 2
}
